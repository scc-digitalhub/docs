{
 "cells": [
  {
   "attachments": {},
   "cell_type": "markdown",
   "id": "76ef9ef8-1906-4a4a-8268-279e836f4c70",
   "metadata": {},
   "source": [
    "# Setup"
   ]
  },
  {
   "cell_type": "code",
   "execution_count": null,
   "id": "0d503af1-2cfe-45eb-8642-cdf9fd03b51c",
   "metadata": {},
   "outputs": [],
   "source": [
    "import digitalhub as dh\n",
    "import pandas as pd\n",
    "import requests\n",
    "import os"
   ]
  },
  {
   "cell_type": "code",
   "execution_count": null,
   "id": "b8c6c93e-d230-4552-a01a-3a3fb4a1ef45",
   "metadata": {},
   "outputs": [],
   "source": [
    "PROJECT = \"demo-etl\"\n",
    "project = dh.get_or_create_project(PROJECT)"
   ]
  },
  {
   "cell_type": "code",
   "execution_count": null,
   "id": "13445cd7-2ef3-480d-9fd1-6fc9bd894c4a",
   "metadata": {},
   "outputs": [],
   "source": [
    "print(project)"
   ]
  },
  {
   "attachments": {},
   "cell_type": "markdown",
   "id": "16b0feff-ce46-45eb-890e-bef5814d54d4",
   "metadata": {},
   "source": [
    "# Explore"
   ]
  },
  {
   "cell_type": "code",
   "execution_count": null,
   "id": "fee4c1d2-4ecf-4e12-8204-404d30897ed1",
   "metadata": {},
   "outputs": [],
   "source": [
    "URL = \"https://opendata.comune.bologna.it/api/explore/v2.1/catalog/datasets/rilevazione-flusso-veicoli-tramite-spire-anno-2023/exports/csv?lang=it&timezone=Europe%2FRome&use_labels=true&delimiter=%3B\"\n",
    "filename = \"rilevazione-flusso-veicoli-tramite-spire-anno-2023.csv\""
   ]
  },
  {
   "cell_type": "code",
   "execution_count": null,
   "id": "f8f7d746-b736-4759-889e-212dc8b0b42c",
   "metadata": {},
   "outputs": [],
   "source": [
    "with requests.get(URL) as r:\n",
    "    with open(filename, \"wb\") as f:\n",
    "        f.write(r.content)"
   ]
  },
  {
   "cell_type": "code",
   "execution_count": null,
   "id": "fbd46603-9595-48ec-b272-1149da1425dc",
   "metadata": {},
   "outputs": [],
   "source": [
    "df = pd.read_csv(filename, sep=\";\")\n",
    "df.head()"
   ]
  },
  {
   "attachments": {},
   "cell_type": "markdown",
   "id": "f3e32baa-cf15-4c0c-8e8d-9ff1c9f5eb95",
   "metadata": {},
   "source": [
    "# Collect the data"
   ]
  },
  {
   "cell_type": "code",
   "execution_count": null,
   "id": "ba05ea5a-eff5-44c9-9cd1-1edec62218ba",
   "metadata": {},
   "outputs": [],
   "source": [
    "new_folder = 'src'\n",
    "if not os.path.exists(new_folder):\n",
    "    os.makedirs(new_folder)"
   ]
  },
  {
   "cell_type": "code",
   "execution_count": null,
   "id": "468a6121-b00e-41e7-a004-6fb4ab0ab46f",
   "metadata": {},
   "outputs": [],
   "source": [
    "%%writefile \"src/download-data.py\"\n",
    "\n",
    "from digitalhub_runtime_python import handler\n",
    "\n",
    "@handler(outputs=[\"dataset\"])\n",
    "def downloader(url):\n",
    "    # read and rewrite to normalize and export as data\n",
    "    df = url.as_df(file_format='csv',sep=\";\")\n",
    "    return df"
   ]
  },
  {
   "cell_type": "code",
   "execution_count": null,
   "id": "d96d6520-e8d0-4b74-a8d5-e7ce2cd9357a",
   "metadata": {},
   "outputs": [],
   "source": [
    "func = project.new_function(\n",
    "                         name=\"download-data\",\n",
    "                         kind=\"python\",\n",
    "                         python_version=\"PYTHON3_10\",\n",
    "                         code_src=\"src/download-data.py\",\n",
    "                         handler=\"downloader\")"
   ]
  },
  {
   "cell_type": "code",
   "execution_count": null,
   "id": "55e24dc5-4714-43ba-a3a5-b469eb1d3afa",
   "metadata": {},
   "outputs": [],
   "source": [
    "URL = \"https://opendata.comune.bologna.it/api/explore/v2.1/catalog/datasets/rilevazione-flusso-veicoli-tramite-spire-anno-2023/exports/csv?lang=it&timezone=Europe%2FRome&use_labels=true&delimiter=%3B\"\n",
    "di= project.new_dataitem(name=\"url_data_item\",kind=\"table\",path=URL)"
   ]
  },
  {
   "cell_type": "code",
   "execution_count": null,
   "id": "5d16a10f-b46b-4be7-8ef9-c9752ca54c3f",
   "metadata": {},
   "outputs": [],
   "source": [
    "run = func.run(action=\"job\", inputs={'url':di.key}, outputs={\"dataset\": \"dataset\"}, local_execution=True)"
   ]
  },
  {
   "cell_type": "code",
   "execution_count": null,
   "id": "1880a62b-e20e-4a96-a342-0b2102776b1c",
   "metadata": {},
   "outputs": [],
   "source": [
    "dataset_di = project.get_dataitem('dataset')\n",
    "dataset_df = dataset_di.as_df()\n",
    "dataset_df.head()"
   ]
  },
  {
   "attachments": {},
   "cell_type": "markdown",
   "id": "f109a348-3bd8-411b-884c-9aad0ac3ebf7",
   "metadata": {},
   "source": [
    "# Process the data"
   ]
  },
  {
   "cell_type": "code",
   "execution_count": null,
   "id": "da3b3198-48c3-4883-8eb7-af4aeb63a9dd",
   "metadata": {},
   "outputs": [],
   "source": [
    "%%writefile \"src/process-spire.py\"\n",
    "\n",
    "from digitalhub_runtime_python import handler\n",
    "\n",
    "KEYS=['codice spira','longitudine','latitudine','Livello','tipologia','codice','codice arco','codice via','Nome via', 'stato','direzione','angolo','geopoint']\n",
    "\n",
    "@handler(outputs=[\"dataset-spire\"])\n",
    "def process(project, di):\n",
    "    df = di.as_df()\n",
    "    sdf= df.groupby(['codice spira']).first().reset_index()[KEYS]\n",
    "    return sdf"
   ]
  },
  {
   "cell_type": "code",
   "execution_count": null,
   "id": "dedcf181-46e1-4751-8119-263808fcb04e",
   "metadata": {},
   "outputs": [],
   "source": [
    "process_func = project.new_function(\n",
    "                         name=\"process-spire\",\n",
    "                         kind=\"python\",\n",
    "                         python_version=\"PYTHON3_10\",\n",
    "                         code_src=\"src/process-spire.py\",\n",
    "                         handler=\"process\")"
   ]
  },
  {
   "cell_type": "code",
   "execution_count": null,
   "id": "3029eb0c-b457-41b2-ba64-ec823a2b3d98",
   "metadata": {},
   "outputs": [],
   "source": [
    "process_run = process_func.run(action=\"job\", inputs={'di': dataset_di.key}, outputs={'dataset-spire': 'dataset-spire'}, local_execution=True)"
   ]
  },
  {
   "cell_type": "code",
   "execution_count": null,
   "id": "4a43b3a4-a1e3-4256-a520-06d2264369e6",
   "metadata": {},
   "outputs": [],
   "source": [
    "spire_di = project.get_dataitem('dataset-spire')\n",
    "spire_df = spire_di.as_df()\n",
    "spire_df.head()"
   ]
  },
  {
   "attachments": {},
   "cell_type": "markdown",
   "id": "d0eadfde-d3e2-44bc-8d0c-c800e0d340cf",
   "metadata": {},
   "source": [
    "Transform the data and check how the resulting dataset looks:"
   ]
  },
  {
   "cell_type": "code",
   "execution_count": null,
   "id": "54dce4b5-72ed-4e4f-97bd-7bf02b1bc4c0",
   "metadata": {},
   "outputs": [],
   "source": [
    "keys = ['00:00-01:00', '01:00-02:00', '02:00-03:00', '03:00-04:00', '04:00-05:00', '05:00-06:00', '06:00-07:00', '07:00-08:00', '08:00-09:00', '09:00-10:00', '10:00-11:00', '11:00-12:00', '12:00-13:00', '13:00-14:00', '14:00-15:00', '15:00-16:00', '16:00-17:00', '17:00-18:00', '18:00-19:00', '19:00-20:00', '20:00-21:00', '21:00-22:00', '22:00-23:00', '23:00-24:00']\n",
    "columns=['data','codice spira'] + keys\n",
    "rdf = dataset_df[columns]"
   ]
  },
  {
   "cell_type": "code",
   "execution_count": null,
   "id": "a58d212b-3db1-44b8-a11f-d77c74730e2a",
   "metadata": {},
   "outputs": [],
   "source": [
    "ls = []\n",
    "\n",
    "for key in keys:\n",
    "    k = key.split(\"-\")[0]\n",
    "    xdf = rdf[['data','codice spira',key]]\n",
    "    xdf['time'] = xdf.data.apply(lambda x: x+' ' +k)\n",
    "    xdf['value'] = xdf[key]\n",
    "    vdf = xdf[['time','codice spira','value']]\n",
    "    ls.append(vdf)\n",
    "\n",
    "edf = pd.concat(ls)\n",
    "edf.head()"
   ]
  },
  {
   "attachments": {},
   "cell_type": "markdown",
   "id": "b51625e6-2cc4-4d0f-bc1a-62d717bbc226",
   "metadata": {},
   "source": [
    "Put this into a function:"
   ]
  },
  {
   "cell_type": "code",
   "execution_count": null,
   "id": "3e19fa40-18bb-4d75-959c-c577c2994c2e",
   "metadata": {},
   "outputs": [],
   "source": [
    "%%writefile \"src/process-measures.py\"\n",
    "\n",
    "from digitalhub_runtime_python import handler\n",
    "import pandas as pd\n",
    "\n",
    "KEYS = ['00:00-01:00', '01:00-02:00', '02:00-03:00', '03:00-04:00', '04:00-05:00', '05:00-06:00', '06:00-07:00', '07:00-08:00', '08:00-09:00', '09:00-10:00', '10:00-11:00', '11:00-12:00', '12:00-13:00', '13:00-14:00', '14:00-15:00', '15:00-16:00', '16:00-17:00', '17:00-18:00', '18:00-19:00', '19:00-20:00', '20:00-21:00', '21:00-22:00', '22:00-23:00', '23:00-24:00']\n",
    "COLUMNS=['data','codice spira']\n",
    "\n",
    "@handler(outputs=[\"dataset-measures\"])\n",
    "def process(project, di):\n",
    "    df = di.as_df()\n",
    "    rdf = df[COLUMNS+KEYS]\n",
    "    ls = []\n",
    "    for key in KEYS:\n",
    "        k = key.split(\"-\")[0]\n",
    "        xdf = rdf[COLUMNS + [key]]\n",
    "        xdf['time'] = xdf.data.apply(lambda x: x+' ' +k)\n",
    "        xdf['value'] = xdf[key]\n",
    "        ls.append(xdf[['time','codice spira','value']])\n",
    "    edf = pd.concat(ls)\n",
    "    return edf"
   ]
  },
  {
   "cell_type": "code",
   "execution_count": null,
   "id": "b32127de-1919-4e4d-aa0f-17c2a1235f59",
   "metadata": {},
   "outputs": [],
   "source": [
    "process_measures_func = project.new_function(\n",
    "                         name=\"process-measures\",\n",
    "                         kind=\"python\",\n",
    "                         python_version=\"PYTHON3_10\",\n",
    "                         code_src=\"src/process-measures.py\",\n",
    "                         handler=\"process\")"
   ]
  },
  {
   "cell_type": "code",
   "execution_count": null,
   "id": "da689773-a36f-413c-a958-b80fd19369ae",
   "metadata": {},
   "outputs": [],
   "source": [
    "process_measures_run = process_measures_func.run(action=\"job\", inputs={'di': dataset_di.key}, outputs={'dataset-measures': 'dataset-measures'}, local_execution=True)"
   ]
  },
  {
   "cell_type": "code",
   "execution_count": null,
   "id": "457342e3-2895-415a-997c-764927248462",
   "metadata": {},
   "outputs": [],
   "source": [
    "measures_di = project.get_dataitem('dataset-measures')\n",
    "measures_df = measures_di.as_df()\n",
    "measures_df.head()"
   ]
  },
  {
   "attachments": {},
   "cell_type": "markdown",
   "id": "20e4f715-dfdd-476c-8a58-08c82752773a",
   "metadata": {},
   "source": [
    "# Workflow"
   ]
  },
  {
   "attachments": {},
   "cell_type": "markdown",
   "id": "44740066-28b4-4e91-b2a5-246cb0345abd",
   "metadata": {},
   "source": [
    "We define a simple workflow, which will execute all the ETL steps we have seen so far by putting their functions together:"
   ]
  },
  {
   "cell_type": "code",
   "execution_count": null,
   "id": "bce160d0-2b7c-4050-8a01-c01349b3252e",
   "metadata": {},
   "outputs": [],
   "source": [
    "%%writefile \"src/pipeline.py\"\n",
    "\n",
    "from digitalhub_runtime_hera.dsl import step\n",
    "from hera.workflows import DAG, Parameter, Workflow\n",
    "\n",
    "\n",
    "def pipeline():\n",
    "    with Workflow(entrypoint=\"dag\", arguments=Parameter(name=\"url\")) as w:\n",
    "        with DAG(name=\"dag\"):\n",
    "            A = step(\n",
    "                template={\"action\": \"job\", \"inputs\": {\"url\": \"{{workflow.parameters.url}}\"}},\n",
    "                function=\"download-data\",\n",
    "                outputs=[\"dataset\"],\n",
    "            )\n",
    "            B = step(\n",
    "                template={\"action\": \"job\", \"inputs\": {\"di\": \"{{inputs.parameters.di}}\"}},\n",
    "                function=\"process-spire\",\n",
    "                inputs={\"di\": A.get_parameter(\"dataset\")},\n",
    "            )\n",
    "            C = step(\n",
    "                template={\"action\": \"job\", \"inputs\": {\"di\": \"{{inputs.parameters.di}}\"}},\n",
    "                function=\"process-measures\",\n",
    "                inputs={\"di\": A.get_parameter(\"dataset\")},\n",
    "                outputs=[\"dataset-measures\"],\n",
    "            )\n",
    "            A >> [B, C]\n",
    "    return w"
   ]
  },
  {
   "cell_type": "code",
   "execution_count": null,
   "id": "40c3ff65-3af4-4b6a-a99e-c32b646779b8",
   "metadata": {},
   "outputs": [],
   "source": [
    "workflow = project.new_workflow(name=\"pipeline\", kind=\"hera\", code_src=\"src/pipeline.py\", handler=\"pipeline\")"
   ]
  },
  {
   "cell_type": "code",
   "execution_count": null,
   "id": "002a3837-9d64-4902-bab3-cdff59c404f7",
   "metadata": {},
   "outputs": [],
   "source": [
    "workflow.run(parameters={\"url\": di.key})"
   ]
  },
  {
   "attachments": {},
   "cell_type": "markdown",
   "id": "4fcb9fb0-1b23-47d0-9bd9-468b18b2222c",
   "metadata": {},
   "source": [
    "# Expose dataset as API"
   ]
  },
  {
   "cell_type": "code",
   "execution_count": null,
   "id": "d8685019-61ad-4422-b4de-06d933fa175f",
   "metadata": {},
   "outputs": [],
   "source": [
    "%%writefile 'src/api.py'\n",
    "\n",
    "def init_context(context, dataitem):\n",
    "    di = context.project.get_dataitem(dataitem)\n",
    "    df = di.as_df()\n",
    "    setattr(context, \"df\", df)\n",
    "\n",
    "def serve(context, event):\n",
    "    df = context.df\n",
    "\n",
    "    if df is None:\n",
    "        return \"\"\n",
    "\n",
    "    # mock REST api\n",
    "    fields = event.fields\n",
    "\n",
    "    # pagination\n",
    "    page = 0\n",
    "    pageSize = 50\n",
    "\n",
    "    if \"page\" in fields:\n",
    "        page = int(fields[\"page\"])\n",
    "\n",
    "    if \"size\" in fields:\n",
    "        pageSize = int(fields[\"size\"])\n",
    "\n",
    "    if page < 0:\n",
    "        page = 0\n",
    "\n",
    "    if pageSize < 1:\n",
    "        pageSize = 1\n",
    "\n",
    "    if pageSize > 100:\n",
    "        pageSize = 100\n",
    "\n",
    "    start = page * pageSize\n",
    "    end = start + pageSize\n",
    "    total = len(df)\n",
    "\n",
    "    if end > total:\n",
    "        end = total\n",
    "\n",
    "    ds = df.iloc[start:end]\n",
    "    json = ds.to_json(orient=\"records\")\n",
    "\n",
    "    return {\"data\": json, \"page\": page, \"size\": pageSize, \"total\": total}"
   ]
  },
  {
   "cell_type": "code",
   "execution_count": null,
   "id": "3847b1f5-004a-4374-a07f-74f998e0f166",
   "metadata": {},
   "outputs": [],
   "source": [
    "api_func = project.new_function(\n",
    "                         name=\"api\",\n",
    "                         kind=\"python\",\n",
    "                         python_version=\"PYTHON3_10\",\n",
    "                         code_src=\"src/api.py\",\n",
    "                         handler=\"serve\",\n",
    "                         init_function=\"init_context\")"
   ]
  },
  {
   "cell_type": "code",
   "execution_count": null,
   "id": "6f8c3856-a9b5-46f8-8b19-4125a6f4088d",
   "metadata": {},
   "outputs": [],
   "source": [
    "run_serve_model = api_func.run(action=\"serve\")"
   ]
  },
  {
   "attachments": {},
   "cell_type": "markdown",
   "id": "3328f659-b011-4a06-bc40-50fcca17900e",
   "metadata": {},
   "source": [
    "# Test the endpoint"
   ]
  },
  {
   "attachments": {},
   "cell_type": "markdown",
   "id": "ce50422d-8993-411f-94ad-9e6ec4f60fb7",
   "metadata": {},
   "source": [
    "You can check the status of the model with the following. When the attribute *service* appears, the model is ready to be used."
   ]
  },
  {
   "cell_type": "code",
   "execution_count": null,
   "id": "c58596cc-34c7-4911-9a3f-07ffb68eb81f",
   "metadata": {},
   "outputs": [],
   "source": [
    "run_serve_model.refresh().status.service"
   ]
  },
  {
   "cell_type": "code",
   "execution_count": null,
   "id": "b2b84972-2f18-499b-af0b-3221e08ad52a",
   "metadata": {},
   "outputs": [],
   "source": [
    "SERVICE_URL = f\"http://{run_serve_model.status.to_dict()['service']['url']}\"\n",
    "SERVICE_URL"
   ]
  },
  {
   "cell_type": "code",
   "execution_count": null,
   "id": "190aa169-b361-4394-b0b6-60a1a8481931",
   "metadata": {},
   "outputs": [],
   "source": [
    "with requests.get(f'{SERVICE_URL}/?page=5&size=10') as r:\n",
    "    res = r.json()"
   ]
  },
  {
   "cell_type": "code",
   "execution_count": null,
   "id": "bafc2f10-38ef-4c3a-9b4f-e7d057d1d3f4",
   "metadata": {},
   "outputs": [],
   "source": [
    "rdf = pd.read_json(res['data'], orient='records')\n",
    "rdf.head()"
   ]
  },
  {
   "attachments": {},
   "cell_type": "markdown",
   "id": "b7dbdf7e-7b7c-433f-bb9c-9abf83ce9237",
   "metadata": {},
   "source": [
    "# Streamlit"
   ]
  },
  {
   "cell_type": "code",
   "execution_count": null,
   "id": "8a983fe9-b48a-4ffb-baa1-6473fda093ff",
   "metadata": {},
   "outputs": [],
   "source": [
    "with open(\"result.json\", \"w\") as file:\n",
    "    file.write(res['data'])"
   ]
  },
  {
   "cell_type": "code",
   "execution_count": null,
   "id": "8d28bb33-9ba0-4db3-8d25-74f890e18498",
   "metadata": {},
   "outputs": [],
   "source": [
    "%%writefile 'streamlit-app.py'\n",
    "\n",
    "import pandas as pd\n",
    "import streamlit as st\n",
    "\n",
    "rdf = pd.read_json(\"result.json\", orient=\"records\")\n",
    "\n",
    "# Replace colons in column names as they can cause issues with Streamlit\n",
    "rdf.columns = rdf.columns.str.replace(\":\", \"\")\n",
    "\n",
    "st.write(\"\"\"My data\"\"\")\n",
    "st.line_chart(rdf, x=\"codice spira\", y=\"value\")"
   ]
  },
  {
   "cell_type": "code",
   "execution_count": null,
   "id": "cae844bd-cce8-404d-a194-4d64b20a490d",
   "metadata": {},
   "outputs": [],
   "source": [
    "%pip install streamlit"
   ]
  },
  {
   "cell_type": "code",
   "execution_count": null,
   "id": "9ecf9bfb-f2d2-4f3d-a640-d5174418eb66",
   "metadata": {},
   "outputs": [],
   "source": [
    "!streamlit run streamlit-app.py --browser.gatherUsageStats false"
   ]
  }
 ],
 "metadata": {
  "kernelspec": {
   "display_name": "Python 3 (ipykernel)",
   "language": "python",
   "name": "python3"
  },
  "language_info": {
   "codemirror_mode": {
    "name": "ipython",
    "version": 3
   },
   "file_extension": ".py",
   "mimetype": "text/x-python",
   "name": "python",
   "nbconvert_exporter": "python",
   "pygments_lexer": "ipython3",
   "version": "3.10.11"
  }
 },
 "nbformat": 4,
 "nbformat_minor": 5
}
